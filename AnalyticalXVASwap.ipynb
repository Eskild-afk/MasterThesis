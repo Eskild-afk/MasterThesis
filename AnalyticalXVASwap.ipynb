{
 "cells": [
  {
   "cell_type": "code",
   "execution_count": 3,
   "metadata": {},
   "outputs": [],
   "source": [
    "import pandas as pd\n",
    "import numpy as np\n",
    "from HullWhite import HullWhite\n",
    "from scipy.optimize import fsolve\n",
    "S = np.arange(0,11)\n",
    "T = np.arange(0,10.5,0.5)\n",
    "beta = np.array([1.879892, 0.579211, \t3.993992, 1.445091])\n",
    "tau  = np.array([ 16.633491, \t0.319680])\n",
    "reversion=0.08670264780833303 #0.13949636660880768 \n",
    "volatility=0.013928489964789946 #0.017793899652989272\n",
    "HW = HullWhite(initial=0.02459103, reversion=reversion, volatility=volatility, b=beta, tau=tau)\n",
    "K=fsolve(lambda x: HW.swap(0, S, T, x), x0=0.02)[0]"
   ]
  },
  {
   "cell_type": "code",
   "execution_count": 5,
   "metadata": {},
   "outputs": [
    {
     "data": {
      "text/plain": [
       "array([[7.50953825e-06, 3.50013876e-06],\n",
       "       [3.50013876e-06, 1.75609974e-06]])"
      ]
     },
     "execution_count": 5,
     "metadata": {},
     "output_type": "execute_result"
    }
   ],
   "source": [
    "from scipy.stats import multivariate_normal as mvn\n",
    "from sklearn.covariance import ledoit_wolf\n",
    "import decimal\n",
    "Te = 0.75\n",
    "\n",
    "X = []\n",
    "Y = []\n",
    "for _ in range(100):\n",
    "    sims=HW.create_path(0.25,0.75,0)[1][2::]\n",
    "    X.append(sims[0])\n",
    "    Y.append(sims[1])\n",
    "\n",
    "HW.C(0, 0.5, Te)-np.cov(X,Y)\n",
    "\n",
    "# print(mvn.pdf([0.0,0.0], mean=[HW.expectedRate(Te),HW.expectedRate(0.5)], cov=HW.C(0,Te,0.5)))"
   ]
  },
  {
   "cell_type": "code",
   "execution_count": 6,
   "metadata": {},
   "outputs": [
    {
     "data": {
      "text/plain": [
       "83.761589548448"
      ]
     },
     "execution_count": 6,
     "metadata": {},
     "output_type": "execute_result"
    }
   ],
   "source": [
    "Te=0.51\n",
    "mvn.pdf([0.0,0.0], mean=[HW.expectedRate(Te),HW.expectedRate(0.5)], cov=HW.C(0,Te,0.5))"
   ]
  },
  {
   "cell_type": "code",
   "execution_count": null,
   "metadata": {},
   "outputs": [],
   "source": []
  },
  {
   "cell_type": "code",
   "execution_count": 8,
   "metadata": {},
   "outputs": [],
   "source": [
    "from joblib import load, Parallel, delayed, cpu_count, dump\n",
    "import seaborn as sns\n",
    "import time\n",
    "EPE = load('./SimulationData/PE_10Y_Swap_N=100000_dt=365.joblib')\n",
    "ENE = load('./SimulationData/NE_10Y_Swap_N=100000_dt=365.joblib')\n",
    "anSwap = [HW.swaption(0,Te,S,T,K) for Te in np.arange(0,10+0.25,0.25)]\n",
    "\n",
    "# def worker(Te):\n",
    "#     return Te, HW.swaption(0,Te,S,T,K)\n",
    "\n",
    "# AnalyticalPESwap10Y = Parallel(n_jobs=cpu_count())(delayed(worker)(Te) for Te in np.arange(0,10+1/365,1/365))\n",
    "# dump(AnalyticalPESwap10Y, './SimulationData/AnalyticalPESwap10Y.joblib')\n",
    "\n",
    "# def worker(Te):\n",
    "#     return Te, HW.swaption(0,Te,S,T,K, payer=False)\n",
    "# AnalyticalNESwap10Y = Parallel(n_jobs=cpu_count())(delayed(worker)(Te) for Te in np.arange(0,10+1/365,1/365))\n",
    "# dump(AnalyticalNESwap10Y, './SimulationData/AnalyticalNESwap10Y.joblib')"
   ]
  },
  {
   "cell_type": "code",
   "execution_count": 6,
   "metadata": {},
   "outputs": [
    {
     "data": {
      "text/plain": [
       "<Axes: >"
      ]
     },
     "execution_count": 6,
     "metadata": {},
     "output_type": "execute_result"
    },
    {
     "data": {
      "image/png": "[encoded data removed]",
      "text/plain": [
       "<Figure size 640x480 with 1 Axes>"
      ]
     },
     "metadata": {},
     "output_type": "display_data"
    }
   ],
   "source": [
    "discounting = np.array([HW.ZCB(0,Te) for Te in np.arange(0,10+1/365,1/365)])\n",
    "\n",
    "sns.lineplot(x=np.arange(0,10+1/365,1/365),y=discounting*np.array(EPE), color='blue')\n",
    "sns.scatterplot(x=np.arange(0,10+0.25,0.25),y=anSwap, color =\"red\")"
   ]
  },
  {
   "cell_type": "code",
   "execution_count": 12,
   "metadata": {},
   "outputs": [],
   "source": [
    "from scipy.integrate import quad\n",
    "intervals = np.linspace(0,10,cpu_count())\n",
    "# quad(lambda x: HW.swaption(0,x,S,T,K), 0, 10)\n",
    "def worker(a,b):\n",
    "    return quad(lambda x: HW.swaption(0,x,S,T,K), a, b, epsabs=1e-4, epsrel=1e-4)\n",
    "\n",
    "# result = Parallel(n_jobs=cpu_count())(delayed(worker)(intervals[i], intervals[i+1]) for i in range(len(intervals)-1))"
   ]
  },
  {
   "cell_type": "code",
   "execution_count": 13,
   "metadata": {},
   "outputs": [],
   "source": [
    "worker(0,1)[0]"
   ]
  },
  {
   "cell_type": "code",
   "execution_count": 12,
   "metadata": {},
   "outputs": [
    {
     "name": "stdout",
     "output_type": "stream",
     "text": [
      "0.0 0.6666666666666666\n",
      "0.6666666666666666 1.3333333333333333\n",
      "1.3333333333333333 2.0\n",
      "2.0 2.6666666666666665\n",
      "2.6666666666666665 3.333333333333333\n",
      "3.333333333333333 4.0\n",
      "4.0 4.666666666666666\n",
      "4.666666666666666 5.333333333333333\n",
      "5.333333333333333 6.0\n",
      "6.0 6.666666666666666\n",
      "6.666666666666666 7.333333333333333\n",
      "7.333333333333333 8.0\n",
      "8.0 8.666666666666666\n",
      "8.666666666666666 9.333333333333332\n",
      "9.333333333333332 10.0\n"
     ]
    }
   ],
   "source": [
    "for i in range(len(intervals)-1):\n",
    "    print(intervals[i],intervals[i+1])"
   ]
  }
 ],
 "metadata": {
  "kernelspec": {
   "display_name": ".venv",
   "language": "python",
   "name": "python3"
  },
  "language_info": {
   "codemirror_mode": {
    "name": "ipython",
    "version": 3
   },
   "file_extension": ".py",
   "mimetype": "text/x-python",
   "name": "python",
   "nbconvert_exporter": "python",
   "pygments_lexer": "ipython3",
   "version": "3.10.4"
  },
  "orig_nbformat": 4
 },
 "nbformat": 4,
 "nbformat_minor": 2
}
