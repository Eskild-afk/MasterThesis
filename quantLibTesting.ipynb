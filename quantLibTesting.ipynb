{
 "cells": [
  {
   "cell_type": "code",
   "execution_count": 1,
   "metadata": {},
   "outputs": [],
   "source": [
    "import numpy as np\n",
    "timeStamp  = np.array([0.5,1,2,3,4,5,7,10])\n",
    "CDSspreadI = np.array([172.9, 173.7, 155.5, 152.3, 144.0, 142.3, 148.3, 156.4])/10000"
   ]
  },
  {
   "cell_type": "code",
   "execution_count": 2,
   "metadata": {},
   "outputs": [],
   "source": [
    "def li(t):\n",
    "        try:\n",
    "            return CDSspreadI[np.where(timeStamp > t )][0]\n",
    "        except:\n",
    "            return CDSspreadI[0]\n"
   ]
  },
  {
   "cell_type": "code",
   "execution_count": 8,
   "metadata": {},
   "outputs": [
    {
     "data": {
      "text/plain": [
       "array([ 0.  ,  0.25,  0.5 ,  0.75,  1.  ,  1.25,  1.5 ,  1.75,  2.  ,\n",
       "        2.25,  2.5 ,  2.75,  3.  ,  3.25,  3.5 ,  3.75,  4.  ,  4.25,\n",
       "        4.5 ,  4.75,  5.  ,  5.25,  5.5 ,  5.75,  6.  ,  6.25,  6.5 ,\n",
       "        6.75,  7.  ,  7.25,  7.5 ,  7.75,  8.  ,  8.25,  8.5 ,  8.75,\n",
       "        9.  ,  9.25,  9.5 ,  9.75, 10.  ])"
      ]
     },
     "execution_count": 8,
     "metadata": {},
     "output_type": "execute_result"
    }
   ],
   "source": [
    "from joblib import load\n",
    "from defaultCurves import *\n",
    "from HullWhite import *\n",
    "\n",
    "beta = np.array([1.879892, 0.579211, \t3.993992, 1.445091])\n",
    "tau  = np.array([ 16.633491, \t0.319680])\n",
    "reversion=0.13949636660880768 \n",
    "volatility=0.017793899652989272\n",
    "# HW = HullWhite(initial=0.02459103, reversion=0.03, volatility=0.00200, Gamma=1000, b=beta, tau=tau)\n",
    "HW = HullWhite(initial=0.02459103, reversion=reversion, volatility=volatility, b=beta, tau=tau)\n",
    "time = HW.create_path(1/4,10)[0]\n",
    "\n",
    "# NE = load('./SimulationData/NE_10Y_Swap_N=5000_dt=4.joblib')\n",
    "\n",
    "# PE = load('./SimulationData/PE_10Y_Swap_N=5000_dt=4.joblib')\n",
    "dt = 1/4\n",
    "sum = 0\n",
    "lag = 2/365\n",
    "time\n",
    "# for i in range(len(time)):\n",
    "#     sum += PE[i]*SI(time[i])*(QC(time[i])-QC(time[i]-dt))\n",
    "\n",
    "# CVA = -sum\n",
    "\n",
    "# sum = 0\n",
    "# for i in range(len(time)):\n",
    "#     sum += NE[i]*SC(time[i])*(QI(time[i])-QI(time[i]-dt))\n",
    "\n",
    "# DVA = -sum\n",
    "\n",
    "# print(CVA, DVA)"
   ]
  },
  {
   "cell_type": "code",
   "execution_count": 9,
   "metadata": {},
   "outputs": [
    {
     "data": {
      "text/plain": [
       "(81, 41)"
      ]
     },
     "execution_count": 9,
     "metadata": {},
     "output_type": "execute_result"
    }
   ],
   "source": [
    "time\n",
    "\n",
    "# Compute the values to insert\n",
    "values_to_insert = time[1::] - lag\n",
    "\n",
    "# Insert the values before each element in the original array\n",
    "len(np.insert(time, np.arange(1,len(time)), values_to_insert)), len(time)"
   ]
  },
  {
   "cell_type": "code",
   "execution_count": 10,
   "metadata": {},
   "outputs": [],
   "source": [
    "time = np.arange(0,10+dt,dt)\n",
    "\n",
    "#Constructing lagged grid\n",
    "lagged_time = (time-lag)[np.where(time-lag > 0)]\n",
    "ttso = np.insert(time, np.arange(1,len(time)), lagged_time)"
   ]
  },
  {
   "cell_type": "code",
   "execution_count": 11,
   "metadata": {},
   "outputs": [
    {
     "data": {
      "text/plain": [
       "array([ 0.        ,  0.24452055,  0.25      ,  0.49452055,  0.5       ,\n",
       "        0.74452055,  0.75      ,  0.99452055,  1.        ,  1.24452055,\n",
       "        1.25      ,  1.49452055,  1.5       ,  1.74452055,  1.75      ,\n",
       "        1.99452055,  2.        ,  2.24452055,  2.25      ,  2.49452055,\n",
       "        2.5       ,  2.74452055,  2.75      ,  2.99452055,  3.        ,\n",
       "        3.24452055,  3.25      ,  3.49452055,  3.5       ,  3.74452055,\n",
       "        3.75      ,  3.99452055,  4.        ,  4.24452055,  4.25      ,\n",
       "        4.49452055,  4.5       ,  4.74452055,  4.75      ,  4.99452055,\n",
       "        5.        ,  5.24452055,  5.25      ,  5.49452055,  5.5       ,\n",
       "        5.74452055,  5.75      ,  5.99452055,  6.        ,  6.24452055,\n",
       "        6.25      ,  6.49452055,  6.5       ,  6.74452055,  6.75      ,\n",
       "        6.99452055,  7.        ,  7.24452055,  7.25      ,  7.49452055,\n",
       "        7.5       ,  7.74452055,  7.75      ,  7.99452055,  8.        ,\n",
       "        8.24452055,  8.25      ,  8.49452055,  8.5       ,  8.74452055,\n",
       "        8.75      ,  8.99452055,  9.        ,  9.24452055,  9.25      ,\n",
       "        9.49452055,  9.5       ,  9.74452055,  9.75      ,  9.99452055,\n",
       "       10.        ])"
      ]
     },
     "execution_count": 11,
     "metadata": {},
     "output_type": "execute_result"
    }
   ],
   "source": [
    "ttso"
   ]
  },
  {
   "cell_type": "code",
   "execution_count": 12,
   "metadata": {},
   "outputs": [],
   "source": [
    "np.random.seed(0)\n",
    "T=np.arange(0,10+0.5,0.5)\n",
    "S=np.arange(0,11,1)\n",
    "K=fsolve(lambda x: HW.swap(0, S, T, x), x0=0.02)[0]\n",
    "swap1 = []\n",
    "for s in range(1000):\n",
    "    float = [HW.init]\n",
    "    for i in range(1, len(ttso)):\n",
    "        ss=ttso[i]-ttso[i-1] #stepsize\n",
    "        float.append(HW.oneStep(t=ttso[i], stepfrom=float[i-1], stepsize=ss, fwd=0))\n",
    "\n",
    "    if dt==1/365:\n",
    "        lagged_float = np.array(float[0:len(float)-2])\n",
    "        float = np.array(float)\n",
    "    else:\n",
    "        lagged_float = np.array(float[1::2])\n",
    "        float = np.array(float[0::2])\n",
    "\n",
    "    swap1.append(np.array([HW.swapextended(x[0], S, T, K=K, floatRate=float, schedule=time, initRate=x[1]) for x in np.array([time,float]).T]))\n",
    "\n",
    "\n",
    "swap2 =[]\n",
    "for s in range(1000):\n",
    "    time, float = HW.create_path(dt,10)\n",
    "    swap2.append(np.array([HW.swapextended(x[0], S, T, K=K, floatRate=float, schedule=time, initRate=x[1]) for x in np.array([time,float]).T]))\n"
   ]
  },
  {
   "cell_type": "code",
   "execution_count": null,
   "metadata": {},
   "outputs": [],
   "source": [
    "lagged_time"
   ]
  },
  {
   "cell_type": "code",
   "execution_count": 21,
   "metadata": {},
   "outputs": [
    {
     "name": "stdout",
     "output_type": "stream",
     "text": [
      "0.24452054794520547\n",
      "0.4945205479452055\n",
      "0.7445205479452055\n",
      "0.9945205479452055\n",
      "1.2445205479452055\n",
      "1.4945205479452055\n",
      "1.7445205479452055\n",
      "1.9945205479452055\n",
      "2.2445205479452053\n",
      "2.4945205479452053\n",
      "2.7445205479452053\n",
      "2.9945205479452053\n",
      "3.2445205479452053\n",
      "3.4945205479452053\n",
      "3.7445205479452053\n",
      "3.9945205479452053\n",
      "4.244520547945205\n",
      "4.494520547945205\n",
      "4.744520547945205\n",
      "4.994520547945205\n",
      "5.244520547945205\n",
      "5.494520547945205\n",
      "5.744520547945205\n",
      "5.994520547945205\n",
      "6.244520547945205\n",
      "6.494520547945205\n",
      "6.744520547945205\n",
      "6.994520547945205\n",
      "7.244520547945205\n",
      "7.494520547945205\n",
      "7.744520547945205\n",
      "7.994520547945205\n",
      "8.244520547945205\n",
      "8.494520547945205\n",
      "8.744520547945205\n",
      "8.994520547945205\n",
      "9.244520547945205\n",
      "9.494520547945205\n",
      "9.744520547945205\n",
      "9.994520547945205\n"
     ]
    },
    {
     "data": {
      "text/plain": [
       "array([0.24452055, 0.49452055, 0.74452055, 0.99452055, 1.24452055,\n",
       "       1.49452055, 1.74452055, 1.99452055, 2.24452055, 2.49452055,\n",
       "       2.74452055, 2.99452055, 3.24452055, 3.49452055, 3.74452055,\n",
       "       3.99452055, 4.24452055, 4.49452055, 4.74452055, 4.99452055,\n",
       "       5.24452055, 5.49452055, 5.74452055, 5.99452055, 6.24452055,\n",
       "       6.49452055, 6.74452055, 6.99452055, 7.24452055, 7.49452055,\n",
       "       7.74452055, 7.99452055, 8.24452055, 8.49452055, 8.74452055,\n",
       "       8.99452055, 9.24452055, 9.49452055, 9.74452055, 9.99452055])"
      ]
     },
     "execution_count": 21,
     "metadata": {},
     "output_type": "execute_result"
    }
   ],
   "source": [
    "for t in enumerate(time):\n",
    "    if t[0]==0:\n",
    "        continue\n",
    "    print(lagged_time[t[0]-1])\n",
    "lagged_time"
   ]
  },
  {
   "cell_type": "code",
   "execution_count": 13,
   "metadata": {},
   "outputs": [
    {
     "data": {
      "text/plain": [
       "<Axes: >"
      ]
     },
     "execution_count": 13,
     "metadata": {},
     "output_type": "execute_result"
    },
    {
     "data": {
      "image/png": "[encoded data removed]",
      "text/plain": [
       "<Figure size 640x480 with 1 Axes>"
      ]
     },
     "metadata": {},
     "output_type": "display_data"
    }
   ],
   "source": [
    "sns.lineplot(x=time, y=np.sum(swap1, axis=0)/1000, color='red')\n",
    "sns.lineplot(x=time, y=np.sum(swap2, axis=0)/1000, color='blue')"
   ]
  },
  {
   "cell_type": "code",
   "execution_count": 85,
   "metadata": {},
   "outputs": [
    {
     "name": "stdout",
     "output_type": "stream",
     "text": [
      "1 0.24452054794520547\n",
      "2 0.005479452054794526\n",
      "3 0.2445205479452055\n",
      "4 0.005479452054794498\n",
      "5 0.2445205479452055\n",
      "6 0.005479452054794498\n",
      "7 0.2445205479452055\n",
      "8 0.005479452054794498\n",
      "9 0.2445205479452055\n",
      "10 0.005479452054794498\n",
      "11 0.2445205479452055\n",
      "12 0.005479452054794498\n",
      "13 0.2445205479452055\n",
      "14 0.005479452054794498\n",
      "15 0.2445205479452055\n",
      "16 0.005479452054794498\n",
      "17 0.24452054794520528\n",
      "18 0.00547945205479472\n",
      "19 0.24452054794520528\n",
      "20 0.00547945205479472\n",
      "21 0.24452054794520528\n",
      "22 0.00547945205479472\n",
      "23 0.24452054794520528\n",
      "24 0.00547945205479472\n",
      "25 0.24452054794520528\n",
      "26 0.00547945205479472\n",
      "27 0.24452054794520528\n",
      "28 0.00547945205479472\n",
      "29 0.24452054794520528\n",
      "30 0.00547945205479472\n",
      "31 0.24452054794520528\n",
      "32 0.00547945205479472\n",
      "33 0.24452054794520528\n",
      "34 0.00547945205479472\n",
      "35 0.24452054794520528\n",
      "36 0.00547945205479472\n",
      "37 0.24452054794520528\n",
      "38 0.00547945205479472\n",
      "39 0.24452054794520528\n",
      "40 0.00547945205479472\n",
      "41 0.24452054794520528\n",
      "42 0.00547945205479472\n",
      "43 0.24452054794520528\n",
      "44 0.00547945205479472\n",
      "45 0.24452054794520528\n",
      "46 0.00547945205479472\n",
      "47 0.24452054794520528\n",
      "48 0.00547945205479472\n",
      "49 0.24452054794520528\n",
      "50 0.00547945205479472\n",
      "51 0.24452054794520528\n",
      "52 0.00547945205479472\n",
      "53 0.24452054794520528\n",
      "54 0.00547945205479472\n",
      "55 0.24452054794520528\n",
      "56 0.00547945205479472\n",
      "57 0.24452054794520528\n",
      "58 0.00547945205479472\n",
      "59 0.24452054794520528\n",
      "60 0.00547945205479472\n",
      "61 0.24452054794520528\n",
      "62 0.00547945205479472\n",
      "63 0.24452054794520528\n",
      "64 0.00547945205479472\n",
      "65 0.24452054794520528\n",
      "66 0.00547945205479472\n",
      "67 0.24452054794520528\n",
      "68 0.00547945205479472\n",
      "69 0.24452054794520528\n",
      "70 0.00547945205479472\n",
      "71 0.24452054794520528\n",
      "72 0.00547945205479472\n",
      "73 0.24452054794520528\n",
      "74 0.00547945205479472\n",
      "75 0.24452054794520528\n",
      "76 0.00547945205479472\n",
      "77 0.24452054794520528\n",
      "78 0.00547945205479472\n",
      "79 0.24452054794520528\n",
      "80 0.00547945205479472\n"
     ]
    }
   ],
   "source": [
    "for i in range(1, len(ttso)):\n",
    "    print(i, ttso[i]-ttso[i-1])"
   ]
  },
  {
   "cell_type": "code",
   "execution_count": 73,
   "metadata": {},
   "outputs": [
    {
     "data": {
      "text/plain": [
       "array([ 0.        , -0.02926022,  0.06235695,  0.10527587,  0.13395705,\n",
       "        0.20223135,  0.25053896,  0.25561583,  0.25849017,  0.30895182,\n",
       "        0.31061921,  0.20672362,  0.15960259,  0.22308006,  0.17048366,\n",
       "        0.19778955,  0.22162331,  0.21345416,  0.22710578,  0.23264973,\n",
       "        0.32240429,  0.31874546,  0.33564718,  0.22395078,  0.19312712,\n",
       "        0.18630354,  0.17658564,  0.08720313,  0.05892699,  0.09548195,\n",
       "        0.12672347,  0.0216475 ,  0.00354934,  0.03874321,  0.01437337,\n",
       "       -0.06229439, -0.06650842, -0.02206412, -0.02612848, -0.0630279 ,\n",
       "        0.        ])"
      ]
     },
     "execution_count": 73,
     "metadata": {},
     "output_type": "execute_result"
    }
   ],
   "source": [
    "swap[0]+swap[1]+swap[2]"
   ]
  },
  {
   "cell_type": "code",
   "execution_count": 94,
   "metadata": {},
   "outputs": [
    {
     "data": {
      "text/plain": [
       "[0.02459103,\n",
       " 0.006431273772554567,\n",
       " 0.0034839811958045238,\n",
       " -0.016463645289327224,\n",
       " -0.019447672955066924,\n",
       " -0.038805137192876094,\n",
       " -0.041775856365345296,\n",
       " -0.060021695846151205,\n",
       " -0.06296827587145624,\n",
       " -0.08012988857507143,\n",
       " -0.08305304101873417,\n",
       " -0.09927122831429577,\n",
       " -0.10217401376169191,\n",
       " -0.11757824787153275,\n",
       " -0.12046345578251157,\n",
       " -0.13514889650918133,\n",
       " -0.13801857204771062,\n",
       " -0.1520511492996072,\n",
       " -0.15490670890284422,\n",
       " -0.16833258941012852,\n",
       " -0.17117502569449303,\n",
       " -0.18402821716242784,\n",
       " -0.18685826235146014,\n",
       " -0.19916559575731857,\n",
       " -0.20198382845868715,\n",
       " -0.21376793112152953,\n",
       " -0.2165748399485151,\n",
       " -0.2278558188074388,\n",
       " -0.2306518383678861,\n",
       " -0.24144820350577845,\n",
       " -0.24423373413698407,\n",
       " -0.2545628969437392,\n",
       " -0.2573383153553549,\n",
       " -0.2672168563589029,\n",
       " -0.26998252135553014,\n",
       " -0.2794263361813733,\n",
       " -0.282182591782875,\n",
       " -0.29120697366473935,\n",
       " -0.2939541508721443,\n",
       " -0.3025738404712525,\n",
       " -0.3053122583349294,\n",
       " -0.31354147678542155,\n",
       " -0.31627144311525274,\n",
       " -0.324123916425341,\n",
       " -0.32684572831636227,\n",
       " -0.33433470723503483,\n",
       " -0.33704865149621716,\n",
       " -0.34418692890733404,\n",
       " -0.3468932824374875,\n",
       " -0.35369320931061177,\n",
       " -0.35639223944336673,\n",
       " -0.3628657398546085,\n",
       " -0.3655577046834215,\n",
       " -0.3717162901634872,\n",
       " -0.3744014388521587,\n",
       " -0.380256222192491,\n",
       " -0.3829347952739891,\n",
       " -0.3884965038599068,\n",
       " -0.39116873352496856,\n",
       " -0.39644772223442276,\n",
       " -0.39911383261076033,\n",
       " -0.40412009630256013,\n",
       " -0.4067803037251838,\n",
       " -0.41152348933334776,\n",
       " -0.4141780026063633,\n",
       " -0.4186674208537268,\n",
       " -0.42131644150389164,\n",
       " -0.4255610782463471,\n",
       " -0.42820480076863016,\n",
       " -0.43221332798046985,\n",
       " -0.4348519400758424,\n",
       " -0.43863272648617374,\n",
       " -0.4412664092918461,\n",
       " -0.444827530681733,\n",
       " -0.44745645899404696,\n",
       " -0.45080570816380494,\n",
       " -0.4534300506539857,\n",
       " -0.4565749470698683,\n",
       " -0.45919486649283536,\n",
       " -0.4621426656221731,\n",
       " -0.46475831901860754]"
      ]
     },
     "execution_count": 94,
     "metadata": {},
     "output_type": "execute_result"
    }
   ],
   "source": []
  },
  {
   "cell_type": "code",
   "execution_count": 85,
   "metadata": {},
   "outputs": [
    {
     "ename": "ValueError",
     "evalue": "setting an array element with a sequence. The requested array has an inhomogeneous shape after 1 dimensions. The detected shape was (2,) + inhomogeneous part.",
     "output_type": "error",
     "traceback": [
      "\u001b[1;31m---------------------------------------------------------------------------\u001b[0m",
      "\u001b[1;31mValueError\u001b[0m                                Traceback (most recent call last)",
      "Cell \u001b[1;32mIn[85], line 11\u001b[0m\n\u001b[0;32m      8\u001b[0m     lagged_float \u001b[39m=\u001b[39m np\u001b[39m.\u001b[39marray(\u001b[39mfloat\u001b[39m[\u001b[39m1\u001b[39m::\u001b[39m2\u001b[39m])\n\u001b[0;32m      9\u001b[0m     \u001b[39mfloat\u001b[39m \u001b[39m=\u001b[39m np\u001b[39m.\u001b[39marray(\u001b[39mfloat\u001b[39m[\u001b[39m0\u001b[39m::\u001b[39m2\u001b[39m])\n\u001b[1;32m---> 11\u001b[0m swap \u001b[39m=\u001b[39m np\u001b[39m.\u001b[39marray([HW\u001b[39m.\u001b[39mswapextended(x[\u001b[39m0\u001b[39m], S, T, K\u001b[39m=\u001b[39mK, floatRate\u001b[39m=\u001b[39m\u001b[39mfloat\u001b[39m, schedule\u001b[39m=\u001b[39mtime, initRate\u001b[39m=\u001b[39mx[\u001b[39m1\u001b[39m]) \u001b[39mfor\u001b[39;00m x \u001b[39min\u001b[39;00m np\u001b[39m.\u001b[39;49marray([time,\u001b[39mfloat\u001b[39;49m])\u001b[39m.\u001b[39mT])\n",
      "\u001b[1;31mValueError\u001b[0m: setting an array element with a sequence. The requested array has an inhomogeneous shape after 1 dimensions. The detected shape was (2,) + inhomogeneous part."
     ]
    }
   ],
   "source": [
    "T=np.arange(0,10+0.5,0.5)\n",
    "S=np.arange(0,11,1)\n",
    "K=fsolve(lambda x: HW.swap(0, S, T, x), x0=0.02)[0]\n",
    "if dt==1/365:\n",
    "    lagged_float = np.array(float[0:len(float)-2])\n",
    "    float = np.array(float)\n",
    "else:\n",
    "    lagged_float = np.array(float[1::2])\n",
    "    float = np.array(float[0::2])\n",
    "\n",
    "swap = np.array([HW.swapextended(x[0], S, T, K=K, floatRate=float, schedule=time, initRate=x[1]) for x in np.array([time,float]).T])"
   ]
  },
  {
   "cell_type": "code",
   "execution_count": 81,
   "metadata": {},
   "outputs": [
    {
     "ename": "ValueError",
     "evalue": "operands could not be broadcast together with shapes (81,) (40,) ",
     "output_type": "error",
     "traceback": [
      "\u001b[1;31m---------------------------------------------------------------------------\u001b[0m",
      "\u001b[1;31mValueError\u001b[0m                                Traceback (most recent call last)",
      "Cell \u001b[1;32mIn[81], line 1\u001b[0m\n\u001b[1;32m----> 1\u001b[0m np\u001b[39m.\u001b[39mwhere(ttso\u001b[39m-\u001b[39;49mlagged_time \u001b[39m==\u001b[39m \u001b[39m0\u001b[39m)\n",
      "\u001b[1;31mValueError\u001b[0m: operands could not be broadcast together with shapes (81,) (40,) "
     ]
    }
   ],
   "source": [
    "np.where(ttso-lagged_time == 0)"
   ]
  },
  {
   "cell_type": "code",
   "execution_count": 22,
   "metadata": {},
   "outputs": [
    {
     "data": {
      "text/plain": [
       "<Axes: >"
      ]
     },
     "execution_count": 22,
     "metadata": {},
     "output_type": "execute_result"
    },
    {
     "data": {
      "image/png": "[encoded data removed]",
      "text/plain": [
       "<Figure size 640x480 with 1 Axes>"
      ]
     },
     "metadata": {},
     "output_type": "display_data"
    }
   ],
   "source": [
    "import seaborn as sns\n",
    "\n",
    "sns.lineplot(x=np.linspace(0, 15, 100), y=[li(x) for x in np.linspace(0, 15, 100)])"
   ]
  }
 ],
 "metadata": {
  "kernelspec": {
   "display_name": "Python 3",
   "language": "python",
   "name": "python3"
  },
  "language_info": {
   "codemirror_mode": {
    "name": "ipython",
    "version": 3
   },
   "file_extension": ".py",
   "mimetype": "text/x-python",
   "name": "python",
   "nbconvert_exporter": "python",
   "pygments_lexer": "ipython3",
   "version": "3.10.4"
  },
  "orig_nbformat": 4
 },
 "nbformat": 4,
 "nbformat_minor": 2
}
