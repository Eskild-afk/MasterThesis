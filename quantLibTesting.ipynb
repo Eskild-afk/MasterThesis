{
 "cells": [
  {
   "cell_type": "code",
   "execution_count": 3,
   "metadata": {},
   "outputs": [],
   "source": [
    "# import the used libraries\n",
    "import numpy as np\n",
    "import matplotlib.pyplot as plt\n",
    "# import statsmodels.api as sm\n",
    "import QuantLib as ql\n",
    "%matplotlib inline"
   ]
  },
  {
   "cell_type": "code",
   "execution_count": 16,
   "metadata": {},
   "outputs": [],
   "source": [
    "# Setting evaluation date\n",
    "today = ql.Date(7,4,2015)\n",
    "ql.Settings.instance().setEvaluationDate(today)"
   ]
  },
  {
   "cell_type": "code",
   "execution_count": 18,
   "metadata": {},
   "outputs": [],
   "source": [
    "# Setup Marketdata\n",
    "rate = ql.SimpleQuote(0.05)\n",
    "rate_handle = ql.QuoteHandle(rate)\n",
    "dc = ql.Actual365Fixed()\n",
    "yts = ql.FlatForward(today, rate_handle, dc)\n",
    "yts.enableExtrapolation()\n",
    "hyts = ql.RelinkableYieldTermStructureHandle(yts)\n",
    "t0_curve = ql.YieldTermStructureHandle(yts)\n",
    "euribor6m = ql.Euribor6M(hyts)\n",
    "cal = ql.TARGET()"
   ]
  },
  {
   "cell_type": "code",
   "execution_count": 20,
   "metadata": {},
   "outputs": [],
   "source": [
    "# Setup a dummy portfolio with two Swaps\n",
    "def makeSwap(start, maturity, nominal, fixedRate, index, typ=ql.VanillaSwap.Payer):\n",
    "    \"\"\"\n",
    "    creates a plain vanilla swap with fixedLegTenor 1Y\n",
    "    \n",
    "    parameter:\n",
    "        \n",
    "        start (ql.Date) : Start Date\n",
    "        \n",
    "        maturity (ql.Period) : SwapTenor\n",
    "        \n",
    "        nominal (float) : Nominal\n",
    "        \n",
    "        fixedRate (float) : rate paid on fixed leg\n",
    "        \n",
    "        index (ql.IborIndex) : Index\n",
    "        \n",
    "    return: tuple(ql.Swap, list<Dates>) Swap and all fixing dates\n",
    "    \n",
    "        \n",
    "    \"\"\"\n",
    "    end = ql.TARGET().advance(start, maturity)\n",
    "    fixedLegTenor = ql.Period(\"1y\")\n",
    "    fixedLegBDC = ql.ModifiedFollowing\n",
    "    fixedLegDC = ql.Thirty360(ql.Thirty360.BondBasis)\n",
    "    spread = 0.0\n",
    "    fixedSchedule = ql.Schedule(start,\n",
    "                                end, \n",
    "                                fixedLegTenor, \n",
    "                                index.fixingCalendar(), \n",
    "                                fixedLegBDC,\n",
    "                                fixedLegBDC, \n",
    "                                ql.DateGeneration.Backward,\n",
    "                                False)\n",
    "    floatSchedule = ql.Schedule(start,\n",
    "                                end,\n",
    "                                index.tenor(),\n",
    "                                index.fixingCalendar(),\n",
    "                                index.businessDayConvention(),\n",
    "                                index.businessDayConvention(),\n",
    "                                ql.DateGeneration.Backward,\n",
    "                                False)\n",
    "    swap = ql.VanillaSwap(typ, \n",
    "                          nominal,\n",
    "                          fixedSchedule,\n",
    "                          fixedRate,\n",
    "                          fixedLegDC,\n",
    "                          floatSchedule,\n",
    "                          index,\n",
    "                          spread,\n",
    "                          index.dayCounter())\n",
    "    return swap, [index.fixingDate(x) for x in floatSchedule][:-1]"
   ]
  },
  {
   "cell_type": "code",
   "execution_count": 19,
   "metadata": {},
   "outputs": [],
   "source": [
    "def makeSwaption(swap, callDates, settlement):\n",
    "    \"\"\"\n",
    "    Creates the swaption of the underlying swap.\n",
    "    \n",
    "    If there is only one callDate in the list of call dates it will be a European swaption\n",
    "    otherwise a Bermudan.\n",
    "    \"\"\"\n",
    "    if len(callDates) == 1:\n",
    "        exercise = ql.EuropeanExercise(callDates[0])\n",
    "    else:\n",
    "        exercise = ql.BermudanExercise(callDates)\n",
    "    return ql.Swaption(swap, exercise, settlement)"
   ]
  },
  {
   "cell_type": "code",
   "execution_count": 21,
   "metadata": {},
   "outputs": [],
   "source": [
    "settlementDate = today + ql.Period(\"2D\")\n",
    "\n",
    "swaps = [makeSwap(settlementDate,\n",
    "                  ql.Period(\"5Y\"),\n",
    "                  1e6,\n",
    "                  0.03,\n",
    "                  euribor6m)\n",
    "        ]\n",
    "\n",
    "calldates = [ql.Date(7,4,2016), ql.Date(6,4,2017), ql.Date(5,4, 2018), ql.Date(5,4,2019)]\n",
    " \n",
    "swaptions = [makeSwaption(swap, \n",
    "                          calldates, \n",
    "                          ql.Settlement.Physical) \n",
    "             for swap, fd in swaps]\n",
    "\n",
    "calldates = [euribor6m.valueDate(d) for d in calldates]"
   ]
  },
  {
   "cell_type": "code",
   "execution_count": 22,
   "metadata": {},
   "outputs": [
    {
     "name": "stdout",
     "output_type": "stream",
     "text": [
      "Swap NPV at time 0: 91979.2517\n"
     ]
    }
   ],
   "source": [
    "#%%timeit\n",
    "# Setup pricing engine and calculate the npv of the underlying swap\n",
    "engine = ql.DiscountingSwapEngine(hyts)\n",
    "for swap, fixingDates in swaps:\n",
    "    swap.setPricingEngine(engine)\n",
    "    print(\"Swap NPV at time 0: %.4f\" % swap.NPV())"
   ]
  },
  {
   "cell_type": "code",
   "execution_count": null,
   "metadata": {},
   "outputs": [],
   "source": []
  },
  {
   "cell_type": "code",
   "execution_count": 8,
   "metadata": {},
   "outputs": [],
   "source": [
    "floSchedule = np.arange(0,10.5,0.5)\n",
    "fixShcedule = np.arange(0,11,1)\n",
    "initRate    = 0.04\n",
    "b           = 0.0125\n",
    "beta        = 0.25\n",
    "sigma       = 0.02"
   ]
  },
  {
   "cell_type": "code",
   "execution_count": 9,
   "metadata": {},
   "outputs": [],
   "source": [
    "model = ql.Vasicek(r0=initRate, a=beta, b=beta*b, sigma = sigma)"
   ]
  },
  {
   "cell_type": "code",
   "execution_count": 14,
   "metadata": {},
   "outputs": [
    {
     "data": {
      "text/plain": [
       "1"
      ]
     },
     "execution_count": 14,
     "metadata": {},
     "output_type": "execute_result"
    }
   ],
   "source": [
    "ql.VanillaSwap.Payer"
   ]
  },
  {
   "cell_type": "code",
   "execution_count": 15,
   "metadata": {},
   "outputs": [
    {
     "ename": "TypeError",
     "evalue": "Wrong number or type of arguments for overloaded function 'new_Gaussian1dSwaptionEngine'.\n  Possible C/C++ prototypes are:\n    Gaussian1dSwaptionEngine::Gaussian1dSwaptionEngine(ext::shared_ptr< Gaussian1dModel > const &,int const,Real const,bool const,bool const,Handle< YieldTermStructure > const &,Gaussian1dSwaptionEngine::Probabilities const)\n    Gaussian1dSwaptionEngine::Gaussian1dSwaptionEngine(ext::shared_ptr< Gaussian1dModel > const &,int const,Real const,bool const,bool const,Handle< YieldTermStructure > const &)\n    Gaussian1dSwaptionEngine::Gaussian1dSwaptionEngine(ext::shared_ptr< Gaussian1dModel > const &,int const,Real const,bool const,bool const)\n    Gaussian1dSwaptionEngine::Gaussian1dSwaptionEngine(ext::shared_ptr< Gaussian1dModel > const &,int const,Real const,bool const)\n    Gaussian1dSwaptionEngine::Gaussian1dSwaptionEngine(ext::shared_ptr< Gaussian1dModel > const &,int const,Real const)\n    Gaussian1dSwaptionEngine::Gaussian1dSwaptionEngine(ext::shared_ptr< Gaussian1dModel > const &,int const)\n    Gaussian1dSwaptionEngine::Gaussian1dSwaptionEngine(ext::shared_ptr< Gaussian1dModel > const &)\n",
     "output_type": "error",
     "traceback": [
      "\u001b[1;31m---------------------------------------------------------------------------\u001b[0m",
      "\u001b[1;31mTypeError\u001b[0m                                 Traceback (most recent call last)",
      "Cell \u001b[1;32mIn[15], line 1\u001b[0m\n\u001b[1;32m----> 1\u001b[0m ql\u001b[39m.\u001b[39;49mGaussian1dSwaptionEngine(model)\n",
      "File \u001b[1;32mc:\\Users\\Shark\\OneDrive\\Desktop\\MasterThesis\\.venv\\lib\\site-packages\\QuantLib\\QuantLib.py:31094\u001b[0m, in \u001b[0;36mGaussian1dSwaptionEngine.__init__\u001b[1;34m(self, *args)\u001b[0m\n\u001b[0;32m  31092\u001b[0m \u001b[39mdef\u001b[39;00m \u001b[39m__init__\u001b[39m(\u001b[39mself\u001b[39m, \u001b[39m*\u001b[39margs):\n\u001b[0;32m  31093\u001b[0m \u001b[39m    \u001b[39m\u001b[39mr\u001b[39m\u001b[39m\"\"\"__init__(Gaussian1dSwaptionEngine self, ext::shared_ptr< Gaussian1dModel > const & model, int const integrationPoints=64, Real const stddevs=7.0, bool const extrapolatePayoff=True, bool const flatPayoffExtrapolation=False, YieldTermStructureHandle discountCurve=Handle< YieldTermStructure >(), Gaussian1dSwaptionEngine::Probabilities const probabilities=NoProb) -> Gaussian1dSwaptionEngine\"\"\"\u001b[39;00m\n\u001b[1;32m> 31094\u001b[0m     _QuantLib\u001b[39m.\u001b[39mGaussian1dSwaptionEngine_swiginit(\u001b[39mself\u001b[39m, _QuantLib\u001b[39m.\u001b[39;49mnew_Gaussian1dSwaptionEngine(\u001b[39m*\u001b[39;49margs))\n",
      "\u001b[1;31mTypeError\u001b[0m: Wrong number or type of arguments for overloaded function 'new_Gaussian1dSwaptionEngine'.\n  Possible C/C++ prototypes are:\n    Gaussian1dSwaptionEngine::Gaussian1dSwaptionEngine(ext::shared_ptr< Gaussian1dModel > const &,int const,Real const,bool const,bool const,Handle< YieldTermStructure > const &,Gaussian1dSwaptionEngine::Probabilities const)\n    Gaussian1dSwaptionEngine::Gaussian1dSwaptionEngine(ext::shared_ptr< Gaussian1dModel > const &,int const,Real const,bool const,bool const,Handle< YieldTermStructure > const &)\n    Gaussian1dSwaptionEngine::Gaussian1dSwaptionEngine(ext::shared_ptr< Gaussian1dModel > const &,int const,Real const,bool const,bool const)\n    Gaussian1dSwaptionEngine::Gaussian1dSwaptionEngine(ext::shared_ptr< Gaussian1dModel > const &,int const,Real const,bool const)\n    Gaussian1dSwaptionEngine::Gaussian1dSwaptionEngine(ext::shared_ptr< Gaussian1dModel > const &,int const,Real const)\n    Gaussian1dSwaptionEngine::Gaussian1dSwaptionEngine(ext::shared_ptr< Gaussian1dModel > const &,int const)\n    Gaussian1dSwaptionEngine::Gaussian1dSwaptionEngine(ext::shared_ptr< Gaussian1dModel > const &)\n"
     ]
    }
   ],
   "source": [
    "ql.Gaussian1dSwaptionEngine(model)"
   ]
  }
 ],
 "metadata": {
  "kernelspec": {
   "display_name": "Python 3",
   "language": "python",
   "name": "python3"
  },
  "language_info": {
   "codemirror_mode": {
    "name": "ipython",
    "version": 3
   },
   "file_extension": ".py",
   "mimetype": "text/x-python",
   "name": "python",
   "nbconvert_exporter": "python",
   "pygments_lexer": "ipython3",
   "version": "3.10.4"
  },
  "orig_nbformat": 4
 },
 "nbformat": 4,
 "nbformat_minor": 2
}
