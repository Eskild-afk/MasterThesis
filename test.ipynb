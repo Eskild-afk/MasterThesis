{
 "cells": [
  {
   "cell_type": "code",
   "execution_count": 1,
   "metadata": {},
   "outputs": [],
   "source": [
    "import pandas as pd\n",
    "import numpy as np\n",
    "from HullWhite import HullWhite\n",
    "from scipy.optimize import fsolve\n",
    "S = np.arange(0,11)\n",
    "T = np.arange(0,10.5,0.5)\n",
    "beta = np.array([1.879892, 0.579211, \t3.993992, 1.445091])\n",
    "tau  = np.array([ 16.633491, \t0.319680])\n",
    "reversion=0.13949636660880768 \n",
    "volatility=0.017793899652989272\n",
    "# HW = HullWhite(initial=0.02459103, reversion=0.03, volatility=0.00200, Gamma=1000, b=beta, tau=tau)\n",
    "HW = HullWhite(initial=0.02459103, reversion=reversion, volatility=volatility, b=beta, tau=tau)\n",
    "K=fsolve(lambda x: HW.swap(0, S, T, x), x0=0.02)[0]"
   ]
  },
  {
   "cell_type": "code",
   "execution_count": 2,
   "metadata": {},
   "outputs": [
    {
     "data": {
      "text/plain": [
       "0.018493377155127704"
      ]
     },
     "execution_count": 2,
     "metadata": {},
     "output_type": "execute_result"
    }
   ],
   "source": [
    "Te=0.52\n",
    "HW.swaption(0,Te, S, T, K)"
   ]
  },
  {
   "cell_type": "code",
   "execution_count": 4,
   "metadata": {},
   "outputs": [
    {
     "data": {
      "text/plain": [
       "6.416666666666667"
      ]
     },
     "execution_count": 4,
     "metadata": {},
     "output_type": "execute_result"
    }
   ],
   "source": [
    "len(np.arange(0,1+0.1,0.1))*35/60"
   ]
  },
  {
   "cell_type": "code",
   "execution_count": 17,
   "metadata": {},
   "outputs": [
    {
     "data": {
      "text/plain": [
       "((0.9999999998779945, 1.3622854081705756e-07),\n",
       " (0.9999999998858804, 2.1376643372421832e-07))"
      ]
     },
     "execution_count": 17,
     "metadata": {},
     "output_type": "execute_result"
    }
   ],
   "source": [
    "from scipy.stats import multivariate_normal as mvn\n",
    "\n",
    "f= lambda x,y: mvn.pdf( [x,y], mean=[HW.expectedRate(Te),HW.expectedRate(0.5)], cov=HW.C(0,Te,0.5))\n",
    "\n",
    "from scipy.integrate import dblquad\n",
    "factor = 20\n",
    "sdTe =factor*np.sqrt(HW.variance(Te))\n",
    "sdT = factor*np.sqrt(HW.variance(0.5))\n",
    "dblquad(f, -sdTe, sdTe, lambda x: -sdT, lambda x: sdT), dblquad(f, -sdT, sdT, lambda x: -sdTe, lambda x: sdTe)\n"
   ]
  }
 ],
 "metadata": {
  "kernelspec": {
   "display_name": ".venv",
   "language": "python",
   "name": "python3"
  },
  "language_info": {
   "codemirror_mode": {
    "name": "ipython",
    "version": 3
   },
   "file_extension": ".py",
   "mimetype": "text/x-python",
   "name": "python",
   "nbconvert_exporter": "python",
   "pygments_lexer": "ipython3",
   "version": "3.10.4"
  },
  "orig_nbformat": 4
 },
 "nbformat": 4,
 "nbformat_minor": 2
}
